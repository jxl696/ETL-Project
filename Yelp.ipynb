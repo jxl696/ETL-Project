{
 "cells": [
  {
   "cell_type": "code",
   "execution_count": 187,
   "metadata": {},
   "outputs": [],
   "source": [
    "from splinter import Browser\n",
    "from bs4 import BeautifulSoup\n",
    "import pandas as pd\n",
    "import re\n",
    "import time"
   ]
  },
  {
   "cell_type": "code",
   "execution_count": 188,
   "metadata": {},
   "outputs": [],
   "source": [
    "executable_path = {'executable_path': 'chromedriver.exe'}\n",
    "browser = Browser('chrome', **executable_path, headless=False)"
   ]
  },
  {
   "cell_type": "code",
   "execution_count": null,
   "metadata": {},
   "outputs": [],
   "source": []
  },
  {
   "cell_type": "code",
   "execution_count": null,
   "metadata": {},
   "outputs": [],
   "source": []
  },
  {
   "cell_type": "code",
   "execution_count": 191,
   "metadata": {},
   "outputs": [],
   "source": [
    "city_list= [\n",
    "            'STATEN%20ISLAND',\n",
    "            'QUEENS',\n",
    "            'BRONX',\n",
    "            'MANHATTAN',\n",
    "'BROOKLYN']\n",
    "service_list= ['restaurants',\n",
    "              'Nightlife',\n",
    "               'Entertainment', \n",
    "               ]"
   ]
  },
  {
   "cell_type": "code",
   "execution_count": null,
   "metadata": {},
   "outputs": [],
   "source": []
  },
  {
   "cell_type": "code",
   "execution_count": 193,
   "metadata": {},
   "outputs": [],
   "source": [
    "name=[]\n",
    "stars=[]\n",
    "type_res =[]\n",
    "city_name=[]\n",
    "service_name =[]\n",
    "\n",
    "for city in city_list:\n",
    "    for service in service_list:\n",
    "\n",
    "        url = f'https://www.yelp.com/search?cflt={service}&find_loc={city}%2C+NY'    \n",
    "        browser.visit(url)\n",
    "        html = browser.html\n",
    "        soup = BeautifulSoup(html, 'html.parser')\n",
    "\n",
    "        try:\n",
    "            for i in range(1,9):\n",
    "                for row in soup.find_all('li',class_=\"regular-search-result\"):\n",
    "                    name.append(row.find('div',class_='biz-attributes').find('a',class_=\"biz-name js-analytics-click\").text)\n",
    "                    cool = row.find('div',{\"title\":True})\n",
    "                    stars.append(re.findall(r'[0-5].[0-5]',cool['title']))\n",
    "                    type_res.append(re.sub('\\s+',' ',row.find('span',class_=\"category-str-list\").text)) \n",
    "                    city_name.append(city)\n",
    "                    service_name.append(service)\n",
    "                browser.find_link_by_href(f\"/search?cflt={service}&find_loc={city}%2C+NY&start={i*30}\").click()\n",
    "                time.sleep(10)\n",
    "        except:\n",
    "            pass\n",
    "    \n",
    "stars= [item for sublist in stars for item in sublist]    "
   ]
  },
  {
   "cell_type": "code",
   "execution_count": 219,
   "metadata": {},
   "outputs": [
    {
     "name": "stdout",
     "output_type": "stream",
     "text": [
      "1855\n",
      "1855\n",
      "1855\n",
      "1855\n",
      "1858\n"
     ]
    }
   ],
   "source": [
    "print(len(city_name))\n",
    "print(len(service_name))\n",
    "print(len(stars))\n",
    "print(len(type_res))\n",
    "print(len(name))"
   ]
  },
  {
   "cell_type": "code",
   "execution_count": 245,
   "metadata": {},
   "outputs": [
    {
     "data": {
      "text/plain": [
       "1855"
      ]
     },
     "execution_count": 245,
     "metadata": {},
     "output_type": "execute_result"
    }
   ],
   "source": [
    "del(name[-1])"
   ]
  },
  {
   "cell_type": "code",
   "execution_count": 246,
   "metadata": {},
   "outputs": [],
   "source": [
    "table={'Name':name,\n",
    "              'Review': stars,\n",
    "              'Type':type_res,\n",
    "              'City_name':city_name,\n",
    "              'Service_name':service_name}\n",
    "data = pd.DataFrame(table)\n"
   ]
  },
  {
   "cell_type": "code",
   "execution_count": 248,
   "metadata": {},
   "outputs": [],
   "source": [
    "data.to_csv('yelp.csv')"
   ]
  },
  {
   "cell_type": "code",
   "execution_count": null,
   "metadata": {},
   "outputs": [],
   "source": []
  }
 ],
 "metadata": {
  "kernelspec": {
   "display_name": "Python 3",
   "language": "python",
   "name": "python3"
  },
  "language_info": {
   "codemirror_mode": {
    "name": "ipython",
    "version": 3
   },
   "file_extension": ".py",
   "mimetype": "text/x-python",
   "name": "python",
   "nbconvert_exporter": "python",
   "pygments_lexer": "ipython3",
   "version": "3.6.4"
  }
 },
 "nbformat": 4,
 "nbformat_minor": 2
}
