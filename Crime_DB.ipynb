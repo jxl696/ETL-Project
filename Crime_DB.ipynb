{
 "cells": [
  {
   "cell_type": "code",
   "execution_count": 1,
   "metadata": {},
   "outputs": [],
   "source": [
    "import pandas as pd\n",
    "file = \"NYPD DATA.csv\""
   ]
  },
  {
   "cell_type": "code",
   "execution_count": 3,
   "metadata": {},
   "outputs": [
    {
     "data": {
      "text/html": [
       "<div>\n",
       "<style scoped>\n",
       "    .dataframe tbody tr th:only-of-type {\n",
       "        vertical-align: middle;\n",
       "    }\n",
       "\n",
       "    .dataframe tbody tr th {\n",
       "        vertical-align: top;\n",
       "    }\n",
       "\n",
       "    .dataframe thead th {\n",
       "        text-align: right;\n",
       "    }\n",
       "</style>\n",
       "<table border=\"1\" class=\"dataframe\">\n",
       "  <thead>\n",
       "    <tr style=\"text-align: right;\">\n",
       "      <th></th>\n",
       "      <th>ID</th>\n",
       "      <th>Boroughs</th>\n",
       "      <th>Boroughs_ID</th>\n",
       "      <th>Crime_Category</th>\n",
       "      <th>Crime_Sub_Category</th>\n",
       "      <th>Crime_Location</th>\n",
       "      <th>Date</th>\n",
       "    </tr>\n",
       "  </thead>\n",
       "  <tbody>\n",
       "    <tr>\n",
       "      <th>0</th>\n",
       "      <td>1</td>\n",
       "      <td>BROOKLYN</td>\n",
       "      <td>1.0</td>\n",
       "      <td>MISDEMEANOR</td>\n",
       "      <td>WEAPONS, POSSESSION, ETC</td>\n",
       "      <td>STREET</td>\n",
       "      <td>3/31/2018</td>\n",
       "    </tr>\n",
       "    <tr>\n",
       "      <th>1</th>\n",
       "      <td>2</td>\n",
       "      <td>STATEN ISLAND</td>\n",
       "      <td>5.0</td>\n",
       "      <td>FELONY</td>\n",
       "      <td>RAPE 2</td>\n",
       "      <td>RESIDENCE - PUBLIC HOUSING</td>\n",
       "      <td>3/31/2018</td>\n",
       "    </tr>\n",
       "    <tr>\n",
       "      <th>2</th>\n",
       "      <td>3</td>\n",
       "      <td>QUEENS</td>\n",
       "      <td>4.0</td>\n",
       "      <td>MISDEMEANOR</td>\n",
       "      <td>AGGRAVATED HARASSMENT 2</td>\n",
       "      <td>RESIDENCE-HOUSE</td>\n",
       "      <td>3/31/2018</td>\n",
       "    </tr>\n",
       "    <tr>\n",
       "      <th>3</th>\n",
       "      <td>4</td>\n",
       "      <td>QUEENS</td>\n",
       "      <td>4.0</td>\n",
       "      <td>FELONY</td>\n",
       "      <td>ROBBERY,DELIVERY PERSON</td>\n",
       "      <td>RESIDENCE - APT. HOUSE</td>\n",
       "      <td>3/31/2018</td>\n",
       "    </tr>\n",
       "    <tr>\n",
       "      <th>4</th>\n",
       "      <td>5</td>\n",
       "      <td>BROOKLYN</td>\n",
       "      <td>1.0</td>\n",
       "      <td>VIOLATION</td>\n",
       "      <td>HARASSMENT,SUBD 3,4,5</td>\n",
       "      <td>RESIDENCE - PUBLIC HOUSING</td>\n",
       "      <td>3/31/2018</td>\n",
       "    </tr>\n",
       "  </tbody>\n",
       "</table>\n",
       "</div>"
      ],
      "text/plain": [
       "   ID       Boroughs  Boroughs_ID Crime_Category        Crime_Sub_Category  \\\n",
       "0   1       BROOKLYN          1.0    MISDEMEANOR  WEAPONS, POSSESSION, ETC   \n",
       "1   2  STATEN ISLAND          5.0         FELONY                    RAPE 2   \n",
       "2   3         QUEENS          4.0    MISDEMEANOR   AGGRAVATED HARASSMENT 2   \n",
       "3   4         QUEENS          4.0         FELONY   ROBBERY,DELIVERY PERSON   \n",
       "4   5       BROOKLYN          1.0      VIOLATION     HARASSMENT,SUBD 3,4,5   \n",
       "\n",
       "               Crime_Location       Date  \n",
       "0                      STREET  3/31/2018  \n",
       "1  RESIDENCE - PUBLIC HOUSING  3/31/2018  \n",
       "2             RESIDENCE-HOUSE  3/31/2018  \n",
       "3      RESIDENCE - APT. HOUSE  3/31/2018  \n",
       "4  RESIDENCE - PUBLIC HOUSING  3/31/2018  "
      ]
     },
     "execution_count": 3,
     "metadata": {},
     "output_type": "execute_result"
    }
   ],
   "source": [
    "db = pd.read_csv(file)\n",
    "db.head()"
   ]
  },
  {
   "cell_type": "code",
   "execution_count": null,
   "metadata": {},
   "outputs": [],
   "source": []
  }
 ],
 "metadata": {
  "kernelspec": {
   "display_name": "Python 3",
   "language": "python",
   "name": "python3"
  },
  "language_info": {
   "codemirror_mode": {
    "name": "ipython",
    "version": 3
   },
   "file_extension": ".py",
   "mimetype": "text/x-python",
   "name": "python",
   "nbconvert_exporter": "python",
   "pygments_lexer": "ipython3",
   "version": "3.6.5"
  }
 },
 "nbformat": 4,
 "nbformat_minor": 2
}
